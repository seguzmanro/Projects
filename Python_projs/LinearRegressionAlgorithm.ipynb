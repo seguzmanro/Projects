{
 "cells": [
  {
   "cell_type": "markdown",
   "metadata": {},
   "source": [
    "Basic implementation of the algorithm of linear regression."
   ]
  },
  {
   "cell_type": "code",
   "execution_count": 1,
   "metadata": {},
   "outputs": [],
   "source": [
    "import numpy as np\n",
    "import matplotlib.pyplot as plt"
   ]
  },
  {
   "cell_type": "code",
   "execution_count": 6,
   "metadata": {},
   "outputs": [],
   "source": [
    "def estimate_b0_b1(x, y):\n",
    "    n = np.size(x)\n",
    "    #obtener promedios de X e Y:\n",
    "    m_x, m_y = np.mean(x), np.mean(y)\n",
    "    #calcular sumatoria de XY y de XX\n",
    "    sumatoria_xy = np.sum((x-m_x)*(y-m_y))\n",
    "    sumatoria_xx = np.sum((x-m_x)**2)\n",
    "    #coeficientes de regresión:\n",
    "    b_1 = sumatoria_xx/sumatoria_xy\n",
    "    b_0 = m_y - b_1*m_x\n",
    "    return b_1, b_0"
   ]
  },
  {
   "cell_type": "code",
   "execution_count": 4,
   "metadata": {},
   "outputs": [],
   "source": [
    "#Función de graficado:\n",
    "def plot_regression(x,y,b):\n",
    "    plt.scatter(x, y, color = 'g', marker = 'o', s = 30)\n",
    "    y_pred = b[0] + b[1]*x\n",
    "    plt.plot(x, y_pred, color = 'b')\n",
    "\n",
    "    #etiquetado: \n",
    "    plt.xlabel('x-Independiente')\n",
    "    plt.ylabel('y-Dependiente')\n",
    "\n",
    "    plt.show()\n"
   ]
  },
  {
   "cell_type": "code",
   "execution_count": 7,
   "metadata": {},
   "outputs": [
    {
     "name": "stdout",
     "output_type": "stream",
     "text": [
      "Los valores de b0 = 0.8666666666666667, b1 = 1.1111111111111112\n"
     ]
    },
    {
     "data": {
      "image/png": "[encoded data removed]",
      "text/plain": [
       "<Figure size 432x288 with 1 Axes>"
      ]
     },
     "metadata": {
      "needs_background": "light"
     },
     "output_type": "display_data"
    }
   ],
   "source": [
    "#Codigo main:\n",
    "def main():\n",
    "    x = np.array([1,2,3,4,5])\n",
    "    y = np.array([2,3,5,6,5])\n",
    "    b = estimate_b0_b1(x, y)\n",
    "    print(f'Los valores de b0 = {b[1]}, b1 = {b[0]}')\n",
    "    plot_regression(x, y, b)\n",
    "\n",
    "if __name__ == '__main__':\n",
    "    main()"
   ]
  }
 ],
 "metadata": {
  "interpreter": {
   "hash": "aee8b7b246df8f9039afb4144a1f6fd8d2ca17a180786b69acc140d282b71a49"
  },
  "kernelspec": {
   "display_name": "Python 3.9.5 64-bit",
   "name": "python3"
  },
  "language_info": {
   "codemirror_mode": {
    "name": "ipython",
    "version": 3
   },
   "file_extension": ".py",
   "mimetype": "text/x-python",
   "name": "python",
   "nbconvert_exporter": "python",
   "pygments_lexer": "ipython3",
   "version": "3.9.5"
  },
  "metadata": {
   "interpreter": {
    "hash": "7812ea015bdcee6f23a998adcdd2ef97c151c0c241b7b7070987d9313e41299d"
   }
  },
  "orig_nbformat": 2
 },
 "nbformat": 4,
 "nbformat_minor": 2
}